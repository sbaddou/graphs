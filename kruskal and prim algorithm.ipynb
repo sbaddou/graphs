{
 "cells": [
  {
   "cell_type": "code",
   "execution_count": 311,
   "metadata": {},
   "outputs": [
    {
     "name": "stdout",
     "output_type": "stream",
     "text": [
      "Package                            Version    \r\n",
      "---------------------------------- -----------\r\n",
      "absl-py                            0.7.1      \r\n",
      "alabaster                          0.7.12     \r\n",
      "anaconda-client                    1.7.2      \r\n",
      "anaconda-navigator                 1.9.7      \r\n",
      "anaconda-project                   0.8.3      \r\n",
      "appnope                            0.1.0      \r\n",
      "appscript                          1.0.1      \r\n",
      "asn1crypto                         0.24.0     \r\n",
      "astor                              0.8.0      \r\n",
      "astroid                            2.2.5      \r\n",
      "astropy                            3.2.1      \r\n",
      "atomicwrites                       1.3.0      \r\n",
      "attrs                              19.1.0     \r\n",
      "Babel                              2.7.0      \r\n",
      "backcall                           0.1.0      \r\n",
      "backports.functools-lru-cache      1.5        \r\n",
      "backports.os                       0.1.1      \r\n",
      "backports.shutil-get-terminal-size 1.0.0      \r\n",
      "backports.tempfile                 1.0        \r\n",
      "backports.weakref                  1.0.post1  \r\n",
      "beautifulsoup4                     4.7.1      \r\n",
      "bitarray                           0.9.3      \r\n",
      "bkcharts                           0.2        \r\n",
      "bleach                             3.1.0      \r\n",
      "bokeh                              1.2.0      \r\n",
      "boto                               2.49.0     \r\n",
      "Bottleneck                         1.2.1      \r\n",
      "Cartopy                            0.17.0     \r\n",
      "certifi                            2019.6.16  \r\n",
      "cffi                               1.12.3     \r\n",
      "chardet                            3.0.4      \r\n",
      "Click                              7.0        \r\n",
      "cloudpickle                        1.2.1      \r\n",
      "clyent                             1.2.2      \r\n",
      "colorama                           0.4.1      \r\n",
      "conda                              4.7.12     \r\n",
      "conda-build                        3.18.8     \r\n",
      "conda-package-handling             1.3.11     \r\n",
      "conda-verify                       3.4.2      \r\n",
      "contextlib2                        0.5.5      \r\n",
      "cryptography                       2.7        \r\n",
      "cycler                             0.10.0     \r\n",
      "Cython                             0.29.12    \r\n",
      "cytoolz                            0.10.0     \r\n",
      "dask                               2.1.0      \r\n",
      "decorator                          4.4.0      \r\n",
      "defusedxml                         0.6.0      \r\n",
      "distributed                        2.1.0      \r\n",
      "docutils                           0.14       \r\n",
      "entrypoints                        0.3        \r\n",
      "et-xmlfile                         1.0.1      \r\n",
      "fastcache                          1.1.0      \r\n",
      "ffmpeg                             1.4        \r\n",
      "filelock                           3.0.12     \r\n",
      "Flask                              1.1.1      \r\n",
      "future                             0.17.1     \r\n",
      "gast                               0.2.2      \r\n",
      "gevent                             1.4.0      \r\n",
      "glob2                              0.7        \r\n",
      "gmpy2                              2.0.8      \r\n",
      "greenlet                           0.4.15     \r\n",
      "grpcio                             1.16.1     \r\n",
      "h5py                               2.9.0      \r\n",
      "heapdict                           1.0.0      \r\n",
      "html5lib                           1.0.1      \r\n",
      "idna                               2.8        \r\n",
      "imageio                            2.5.0      \r\n",
      "imagesize                          1.1.0      \r\n",
      "importlib-metadata                 0.17       \r\n",
      "ipykernel                          5.1.1      \r\n",
      "ipython                            7.6.1      \r\n",
      "ipython-genutils                   0.2.0      \r\n",
      "ipywidgets                         7.5.0      \r\n",
      "isort                              4.3.21     \r\n",
      "itsdangerous                       1.1.0      \r\n",
      "jdcal                              1.4.1      \r\n",
      "jedi                               0.13.3     \r\n",
      "Jinja2                             2.10.1     \r\n",
      "joblib                             0.13.2     \r\n",
      "json5                              0.8.4      \r\n",
      "jsonschema                         3.0.1      \r\n",
      "jupyter                            1.0.0      \r\n",
      "jupyter-client                     5.3.1      \r\n",
      "jupyter-console                    6.0.0      \r\n",
      "jupyter-core                       4.5.0      \r\n",
      "jupyterlab                         1.0.2      \r\n",
      "jupyterlab-server                  1.0.0      \r\n",
      "Keras                              2.2.4      \r\n",
      "Keras-Applications                 1.0.8      \r\n",
      "Keras-Preprocessing                1.1.0      \r\n",
      "keyring                            18.0.0     \r\n",
      "kiwisolver                         1.1.0      \r\n",
      "lazy-object-proxy                  1.4.1      \r\n",
      "libarchive-c                       2.8        \r\n",
      "lief                               0.9.0      \r\n",
      "llvmlite                           0.29.0     \r\n",
      "locket                             0.2.0      \r\n",
      "lxml                               4.3.4      \r\n",
      "Markdown                           3.1.1      \r\n",
      "MarkupSafe                         1.1.1      \r\n",
      "matplotlib                         3.1.0      \r\n",
      "mccabe                             0.6.1      \r\n",
      "mistune                            0.8.4      \r\n",
      "mkl-fft                            1.0.12     \r\n",
      "mkl-random                         1.0.2      \r\n",
      "mkl-service                        2.0.2      \r\n",
      "mock                               3.0.5      \r\n",
      "more-itertools                     7.0.0      \r\n",
      "mpmath                             1.1.0      \r\n",
      "msgpack                            0.6.1      \r\n",
      "multipledispatch                   0.6.0      \r\n",
      "navigator-updater                  0.2.1      \r\n",
      "nbconvert                          5.5.0      \r\n",
      "nbformat                           4.4.0      \r\n",
      "networkx                           2.3        \r\n",
      "nltk                               3.4.4      \r\n",
      "nose                               1.3.7      \r\n",
      "notebook                           6.0.0      \r\n",
      "numba                              0.44.1     \r\n",
      "numexpr                            2.6.9      \r\n",
      "numpy                              1.16.4     \r\n",
      "numpydoc                           0.9.1      \r\n",
      "olefile                            0.46       \r\n",
      "openpyxl                           2.6.2      \r\n",
      "OWSLib                             0.18.0     \r\n",
      "packaging                          19.0       \r\n",
      "pandas                             0.24.2     \r\n",
      "pandocfilters                      1.4.2      \r\n",
      "parso                              0.5.0      \r\n",
      "partd                              1.0.0      \r\n",
      "path.py                            12.0.1     \r\n",
      "pathlib2                           2.3.4      \r\n",
      "patsy                              0.5.1      \r\n",
      "pep8                               1.7.1      \r\n",
      "pexpect                            4.7.0      \r\n",
      "pickleshare                        0.7.5      \r\n",
      "Pillow                             6.1.0      \r\n",
      "pip                                19.1.1     \r\n",
      "pkginfo                            1.5.0.1    \r\n",
      "pluggy                             0.12.0     \r\n",
      "ply                                3.11       \r\n",
      "prometheus-client                  0.7.1      \r\n",
      "prompt-toolkit                     2.0.9      \r\n",
      "protobuf                           3.8.0      \r\n",
      "psutil                             5.6.3      \r\n",
      "ptyprocess                         0.6.0      \r\n",
      "PuLP                               1.6.10     \r\n",
      "py                                 1.8.0      \r\n",
      "pycodestyle                        2.5.0      \r\n",
      "pycosat                            0.6.3      \r\n",
      "pycparser                          2.19       \r\n",
      "pycrypto                           2.6.1      \r\n",
      "pycurl                             7.43.0.3   \r\n",
      "pyepsg                             0.4.0      \r\n",
      "pyflakes                           2.1.1      \r\n",
      "Pygments                           2.4.2      \r\n",
      "pykdtree                           1.3.1      \r\n",
      "pylint                             2.3.1      \r\n",
      "pyodbc                             4.0.26     \r\n",
      "pyOpenSSL                          19.0.0     \r\n",
      "pyparsing                          2.4.0      \r\n",
      "pyproj                             1.9.6      \r\n",
      "pyrsistent                         0.14.11    \r\n",
      "pyshp                              2.1.0      \r\n",
      "PySocks                            1.7.0      \r\n",
      "pytest                             5.0.1      \r\n",
      "pytest-arraydiff                   0.3        \r\n",
      "pytest-astropy                     0.5.0      \r\n",
      "pytest-doctestplus                 0.3.0      \r\n",
      "pytest-openfiles                   0.3.2      \r\n",
      "pytest-remotedata                  0.3.1      \r\n",
      "python-dateutil                    2.8.0      \r\n",
      "pytz                               2019.1     \r\n",
      "PyWavelets                         1.0.3      \r\n",
      "PyYAML                             5.1.1      \r\n",
      "pyzmq                              18.0.0     \r\n",
      "QtAwesome                          0.5.7      \r\n",
      "qtconsole                          4.5.1      \r\n",
      "QtPy                               1.8.0      \r\n",
      "requests                           2.22.0     \r\n",
      "rope                               0.14.0     \r\n",
      "ruamel-yaml                        0.15.46    \r\n",
      "scikit-image                       0.15.0     \r\n",
      "scikit-learn                       0.21.2     \r\n",
      "scipy                              1.3.0      \r\n",
      "seaborn                            0.9.0      \r\n",
      "Send2Trash                         1.5.0      \r\n",
      "setuptools                         41.0.1     \r\n",
      "Shapely                            1.6.4.post1\r\n",
      "simplegeneric                      0.8.1      \r\n",
      "singledispatch                     3.4.0.3    \r\n",
      "six                                1.12.0     \r\n",
      "snowballstemmer                    1.9.0      \r\n",
      "sortedcollections                  1.1.2      \r\n",
      "sortedcontainers                   2.1.0      \r\n",
      "soupsieve                          1.8        \r\n",
      "Sphinx                             2.1.2      \r\n",
      "sphinxcontrib-applehelp            1.0.1      \r\n",
      "sphinxcontrib-devhelp              1.0.1      \r\n",
      "sphinxcontrib-htmlhelp             1.0.2      \r\n",
      "sphinxcontrib-jsmath               1.0.1      \r\n",
      "sphinxcontrib-qthelp               1.0.2      \r\n",
      "sphinxcontrib-serializinghtml      1.1.3      \r\n",
      "sphinxcontrib-websupport           1.1.2      \r\n",
      "spyder                             3.3.6      \r\n",
      "spyder-kernels                     0.5.1      \r\n",
      "SQLAlchemy                         1.3.5      \r\n",
      "statsmodels                        0.10.0     \r\n",
      "sympy                              1.4        \r\n",
      "tables                             3.5.2      \r\n",
      "tblib                              1.4.0      \r\n",
      "tensorboard                        1.14.0     \r\n",
      "tensorflow                         1.14.0     \r\n",
      "tensorflow-estimator               1.14.0     \r\n",
      "termcolor                          1.1.0      \r\n",
      "terminado                          0.8.2      \r\n",
      "testpath                           0.4.2      \r\n",
      "toolz                              0.10.0     \r\n",
      "tornado                            6.0.3      \r\n",
      "tqdm                               4.32.1     \r\n",
      "traitlets                          4.3.2      \r\n",
      "unicodecsv                         0.14.1     \r\n",
      "urllib3                            1.24.2     \r\n",
      "wcwidth                            0.1.7      \r\n",
      "webencodings                       0.5.1      \r\n",
      "Werkzeug                           0.15.4     \r\n",
      "wheel                              0.33.4     \r\n",
      "widgetsnbextension                 3.5.0      \r\n",
      "wrapt                              1.11.2     \r\n",
      "wurlitzer                          1.0.2      \r\n",
      "xlrd                               1.2.0      \r\n",
      "XlsxWriter                         1.1.8      \r\n",
      "xlwings                            0.15.8     \r\n",
      "xlwt                               1.3.0      \r\n",
      "zict                               1.0.0      \r\n",
      "zipp                               0.5.1      \r\n"
     ]
    },
    {
     "name": "stdout",
     "output_type": "stream",
     "text": [
      "Note: you may need to restart the kernel to use updated packages.\n"
     ]
    }
   ],
   "source": [
    "pip list\n"
   ]
  },
  {
   "cell_type": "code",
   "execution_count": 312,
   "metadata": {},
   "outputs": [],
   "source": [
    "import networkx as nx"
   ]
  },
  {
   "cell_type": "code",
   "execution_count": 313,
   "metadata": {},
   "outputs": [],
   "source": [
    "%matplotlib inline\n",
    "import matplotlib.pyplot as plt"
   ]
  },
  {
   "cell_type": "code",
   "execution_count": 314,
   "metadata": {},
   "outputs": [],
   "source": [
    "import numpy as np"
   ]
  },
  {
   "cell_type": "code",
   "execution_count": 315,
   "metadata": {},
   "outputs": [],
   "source": [
    "g = nx.Graph()\n",
    "\n",
    "g.add_edge('A', 'B', weight=4)\n",
    "g.add_edge('A', 'C', weight=2)\n",
    "g.add_edge('B', 'C', weight=3)\n",
    "g.add_edge('B', 'D', weight=1)\n",
    "g.add_edge('B', 'E', weight=4)\n",
    "g.add_edge('C', 'D', weight=4)\n",
    "g.add_edge('C', 'E', weight=5)\n",
    "g.add_edge('E', 'D', weight=1)\n",
    "g.add_edge('J', 'L', weight=5)\n",
    "g.add_edge('D', 'H', weight=9)\n",
    "g.add_edge('H', 'L', weight=7)\n",
    "g.add_edge('P', 'L', weight=9)\n",
    "g.add_edge('P', 'G', weight=4)\n",
    "g.add_edge('L','G', weight=2)"
   ]
  },
  {
   "cell_type": "code",
   "execution_count": null,
   "metadata": {},
   "outputs": [],
   "source": []
  },
  {
   "cell_type": "code",
   "execution_count": 310,
   "metadata": {},
   "outputs": [
    {
     "ename": "NameError",
     "evalue": "name 'predecessors' is not defined",
     "output_type": "error",
     "traceback": [
      "\u001b[0;31m---------------------------------------------------------------------------\u001b[0m",
      "\u001b[0;31mNameError\u001b[0m                                 Traceback (most recent call last)",
      "\u001b[0;32m<ipython-input-310-30738a6764fd>\u001b[0m in \u001b[0;36m<module>\u001b[0;34m\u001b[0m\n\u001b[1;32m     14\u001b[0m         \u001b[0mg\u001b[0m\u001b[0;34m,\u001b[0m \u001b[0max\u001b[0m\u001b[0;34m=\u001b[0m\u001b[0max\u001b[0m\u001b[0;34m,\u001b[0m \u001b[0mpos\u001b[0m\u001b[0;34m=\u001b[0m\u001b[0mnx\u001b[0m\u001b[0;34m.\u001b[0m\u001b[0mshell_layout\u001b[0m\u001b[0;34m(\u001b[0m\u001b[0mg\u001b[0m\u001b[0;34m)\u001b[0m\u001b[0;34m,\u001b[0m\u001b[0;34m\u001b[0m\u001b[0;34m\u001b[0m\u001b[0m\n\u001b[1;32m     15\u001b[0m         edgelist=[(succ, pred)\n\u001b[0;32m---> 16\u001b[0;31m                   \u001b[0;32mfor\u001b[0m \u001b[0mpred\u001b[0m \u001b[0;32min\u001b[0m \u001b[0mpredecessors\u001b[0m\u001b[0;34m.\u001b[0m\u001b[0mkeys\u001b[0m\u001b[0;34m(\u001b[0m\u001b[0;34m)\u001b[0m\u001b[0;34m\u001b[0m\u001b[0;34m\u001b[0m\u001b[0m\n\u001b[0m\u001b[1;32m     17\u001b[0m                   for succ in predecessors[pred]],\n\u001b[1;32m     18\u001b[0m         \u001b[0medge_color\u001b[0m\u001b[0;34m=\u001b[0m\u001b[0;34m'blue'\u001b[0m\u001b[0;34m,\u001b[0m\u001b[0;34m\u001b[0m\u001b[0;34m\u001b[0m\u001b[0m\n",
      "\u001b[0;31mNameError\u001b[0m: name 'predecessors' is not defined"
     ]
    },
    {
     "data": {
      "image/png": "[encoded data removed]",
      "text/plain": [
       "<Figure size 432x288 with 1 Axes>"
      ]
     },
     "metadata": {},
     "output_type": "display_data"
    }
   ],
   "source": [
    "ax = plt.axes()\n",
    "nx.draw_networkx(\n",
    "    g, ax=ax,\n",
    "    pos=nx.shell_layout(g)\n",
    ")\n",
    "\n",
    "nx.draw_networkx_edge_labels(\n",
    "    g, ax=ax, pos=nx.shell_layout(g),\n",
    "    edge_labels=dict(((u, v), g[u][v]['weight'])\n",
    "                     for u, v in g.edges)\n",
    ")\n",
    "\n",
    "nx.draw_networkx_edges(\n",
    "        g, ax=ax, pos=nx.shell_layout(g),\n",
    "        edgelist=[(succ, pred)\n",
    "                  for pred in predecessors.keys()\n",
    "                  for succ in predecessors[pred]],\n",
    "        edge_color='blue',\n",
    "        width=2\n",
    "    )"
   ]
  },
  {
   "cell_type": "markdown",
   "metadata": {},
   "source": [
    "# PRIM ALGO"
   ]
  },
  {
   "cell_type": "code",
   "execution_count": 522,
   "metadata": {},
   "outputs": [],
   "source": [
    "def prim(g):\n",
    "    N = [n for n in g.node]\n",
    "    cheapest = {key:np.inf for key in g.node}\n",
    "    pred = {key:None for key in g.node}\n",
    "    \n",
    "    cheapest[next(iter(cheapest.keys()))] = 0\n",
    "    \n",
    "   \n",
    "    \n",
    "    while len(N) != 0:\n",
    "        minimal_cost_node = min(cheapest,key=cheapest.get)\n",
    "       \n",
    "        N.remove(minimal_cost_node)\n",
    "        cheapest.pop(minimal_cost_node)\n",
    "        \n",
    "        for n in g.neighbors(minimal_cost_node):\n",
    "            if n in N:\n",
    "                if g[minimal_cost_node][n]['weight'] < cheapest[n]:\n",
    "                    cheapest[n] = g[minimal_cost_node][n]['weight']\n",
    "                    pred[n] = minimal_cost_node\n",
    "    \n",
    "    return pred\n",
    "    "
   ]
  },
  {
   "cell_type": "code",
   "execution_count": null,
   "metadata": {},
   "outputs": [],
   "source": []
  },
  {
   "cell_type": "code",
   "execution_count": 523,
   "metadata": {},
   "outputs": [
    {
     "name": "stdout",
     "output_type": "stream",
     "text": [
      "{'A': None, 'B': 'C', 'C': 'A', 'D': 'B', 'E': 'D', 'J': 'L', 'L': 'H', 'H': 'D', 'P': 'G', 'G': 'L'}\n"
     ]
    }
   ],
   "source": [
    "print(prim(g))"
   ]
  },
  {
   "cell_type": "code",
   "execution_count": 524,
   "metadata": {},
   "outputs": [
    {
     "data": {
      "text/plain": [
       "<matplotlib.collections.LineCollection at 0xa290c4128>"
      ]
     },
     "execution_count": 524,
     "metadata": {},
     "output_type": "execute_result"
    },
    {
     "data": {
      "image/png": "[encoded data removed]",
      "text/plain": [
       "<Figure size 432x288 with 1 Axes>"
      ]
     },
     "metadata": {},
     "output_type": "display_data"
    }
   ],
   "source": [
    "ax = plt.axes()\n",
    "nx.draw_networkx(\n",
    "    g, ax=ax,\n",
    "    pos=nx.shell_layout(g)\n",
    ")\n",
    "\n",
    "nx.draw_networkx_edge_labels(\n",
    "    g, ax=ax, pos=nx.shell_layout(g),\n",
    "    edge_labels=dict(((u, v), g[u][v]['weight'])\n",
    "                     for u, v in g.edges)\n",
    ")\n",
    "\n",
    "prim_result = prim(g)\n",
    "prim_result['A'] = 'A'\n",
    "nx.draw_networkx_edges(\n",
    "        g, ax=ax, pos=nx.shell_layout(g),\n",
    "        \n",
    "        edgelist=[(succ, pred)\n",
    "                  for pred in prim_result.keys()\n",
    "                  for succ in prim_result[pred]],\n",
    "        edge_color='red',\n",
    "        width=2\n",
    "    )"
   ]
  },
  {
   "cell_type": "code",
   "execution_count": 150,
   "metadata": {},
   "outputs": [
    {
     "data": {
      "text/plain": [
       "inf"
      ]
     },
     "execution_count": 150,
     "metadata": {},
     "output_type": "execute_result"
    }
   ],
   "source": [
    "def animate(i):\n",
    "\n",
    "    nx.draw_networkx_edges(\n",
    "        g, ax=ax, pos=nx.shell_layout(g),\n",
    "        edgelist=[(succ, pred)\n",
    "                  for pred in predecessors.keys()\n",
    "                  for succ in predecessors[pred]],\n",
    "        edge_color='blue',\n",
    "        width=2\n",
    "    )\n",
    "    return []\n"
   ]
  },
  {
   "cell_type": "code",
   "execution_count": 369,
   "metadata": {},
   "outputs": [
    {
     "data": {
      "text/plain": [
       "EdgeDataView([('A', 'B', 4), ('A', 'C', 2), ('B', 'C', 3), ('B', 'D', 1), ('B', 'E', 4), ('C', 'D', 4), ('C', 'E', 5), ('D', 'E', 1), ('D', 'H', 9), ('J', 'L', 5), ('L', 'H', 7), ('L', 'P', 9), ('L', 'G', 2), ('P', 'G', 4)])"
      ]
     },
     "execution_count": 369,
     "metadata": {},
     "output_type": "execute_result"
    }
   ],
   "source": [
    "g.edges.data('weight')"
   ]
  },
  {
   "cell_type": "markdown",
   "metadata": {},
   "source": [
    "# KRUSKAL"
   ]
  },
  {
   "cell_type": "code",
   "execution_count": 527,
   "metadata": {},
   "outputs": [],
   "source": [
    "class UnionFind:\n",
    "    def __init__(self,nodes):\n",
    "        self.root = {i:i for i in nodes}\n",
    "        \n",
    "    def union(self,u,v):\n",
    "        root_u = self.find(u)\n",
    "        root_v = self.find(v)\n",
    "        \n",
    "        if root_u != root_v:\n",
    "            self.root[root_v] = root_u\n",
    "        \n",
    "    \n",
    "    def find(self,u):\n",
    "        while self.root[u] != u:\n",
    "            u = self.root[u]\n",
    "        \n",
    "        return u"
   ]
  },
  {
   "cell_type": "code",
   "execution_count": 528,
   "metadata": {},
   "outputs": [],
   "source": [
    "def kruskal(g):\n",
    "    mst = []\n",
    "    edges = sorted(g.edges.data('weight'), key = lambda edges: edges[2])\n",
    "    make_union_find = UnionFind(g.nodes)\n",
    "    while len(edges) != 0:\n",
    "        e = edges[0]\n",
    "        edges.remove(e)        \n",
    "        if make_union_find.find(e[0]) != make_union_find.find(e[1]):\n",
    "            make_union_find.union(e[0],e[1])\n",
    "            mst.append(e)\n",
    "    \n",
    "    return mst\n",
    "        \n",
    "    "
   ]
  },
  {
   "cell_type": "code",
   "execution_count": null,
   "metadata": {},
   "outputs": [],
   "source": []
  },
  {
   "cell_type": "code",
   "execution_count": 529,
   "metadata": {},
   "outputs": [
    {
     "data": {
      "text/plain": [
       "<matplotlib.collections.LineCollection at 0xa29fec898>"
      ]
     },
     "execution_count": 529,
     "metadata": {},
     "output_type": "execute_result"
    },
    {
     "data": {
      "image/png": "[encoded data removed]",
      "text/plain": [
       "<Figure size 432x288 with 1 Axes>"
      ]
     },
     "metadata": {},
     "output_type": "display_data"
    }
   ],
   "source": [
    "ax = plt.axes()\n",
    "nx.draw_networkx(\n",
    "    g, ax=ax,\n",
    "    pos=nx.shell_layout(g)\n",
    ")\n",
    "\n",
    "nx.draw_networkx_edge_labels(\n",
    "    g, ax=ax, pos=nx.shell_layout(g),\n",
    "    edge_labels=dict(((u, v), g[u][v]['weight'])\n",
    "                     for u, v in g.edges)\n",
    ")\n",
    "\n",
    "kruskal_result = kruskal(g)\n",
    "nx.draw_networkx_edges(\n",
    "        g, ax=ax, pos=nx.shell_layout(g),\n",
    "        \n",
    "        edgelist=[(e[1],e[0]) for e in kruskal_result],\n",
    "        edge_color='blue',\n",
    "        width=2\n",
    "    )"
   ]
  }
 ],
 "metadata": {
  "kernelspec": {
   "display_name": "Python 3",
   "language": "python",
   "name": "python3"
  },
  "language_info": {
   "codemirror_mode": {
    "name": "ipython",
    "version": 3
   },
   "file_extension": ".py",
   "mimetype": "text/x-python",
   "name": "python",
   "nbconvert_exporter": "python",
   "pygments_lexer": "ipython3",
   "version": "3.7.3"
  }
 },
 "nbformat": 4,
 "nbformat_minor": 2
}
